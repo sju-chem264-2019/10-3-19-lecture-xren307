{
 "cells": [
  {
   "cell_type": "markdown",
   "metadata": {},
   "source": [
    "# Variational Principle  using Symbolic Mathematics in Python "
   ]
  },
  {
   "cell_type": "markdown",
   "metadata": {},
   "source": [
    "## 1. Introduction"
   ]
  },
  {
   "cell_type": "markdown",
   "metadata": {},
   "source": [
    "The variational principle tells us that we can use a trial wavefunction to solve the Schrodinger equation using the following theorem:\n",
    "\n",
    "$${{\\int {{\\Psi ^*}\\hat H{\\rm{ }}\\Psi } d\\tau } \\over {\\int {{\\Psi ^*}\\Psi } d\\tau }} \\ge {E_0}$$\n",
    "\n",
    "We will use Sympy to solve the particle in a box problem by guessing a trial wavefunction using variational principle"
   ]
  },
  {
   "cell_type": "code",
   "execution_count": 1,
   "metadata": {},
   "outputs": [],
   "source": [
    "import sympy as sym"
   ]
  },
  {
   "cell_type": "markdown",
   "metadata": {},
   "source": [
    "This exercise is a bit more self-guided than the other notebooks we have done. One of the most useful things you can do is **open last week's notebook to remember the commands in sympy**. Also, remember that google is your friend:\n",
    "\n",
    "1. [Sympy tutorial](https://docs.sympy.org/latest/tutorial/index.html)\n",
    "2. [Stack Overflow](https://stackoverflow.com/search?q=sympy+)\n",
    "3. [Stack Exchange](https://stackexchange.com/)"
   ]
  },
  {
   "cell_type": "markdown",
   "metadata": {},
   "source": [
    "## 2. Particle in a box"
   ]
  },
  {
   "cell_type": "markdown",
   "metadata": {},
   "source": [
    "The wave function that we pick for a particle in a box needs to have the following properties\n",
    "\n",
    "1. single valued\n",
    "1. normalizable\n",
    "1. function and its first derivative are continuous \n",
    "1. boundary condition that the wave function goes to zero at the ends of the box\n",
    "\n",
    "![Particle in a box](InfiniteSquareWellAnimation.gif)\n",
    "\n",
    "Particle in a box: a is a classical particle, red is real part, blue is imaginary part."
   ]
  },
  {
   "cell_type": "markdown",
   "metadata": {},
   "source": [
    "This particle only expericnes kinetic energy between the box, so the Hamiltonian for this system is\n",
    "\n",
    "$$\\hat H = {{ - {\\hbar ^2}} \\over {2m}}{{{d^2}} \\over {d{x^2}}} + \\left\\{ {\\matrix{{V(x) = 0} & {0 < x < a}  \\cr {V(x) = \\infty } & {x < 0\\text{ }{\\rm{ or}}\\;x > a}  \\cr } } \\right.$$\n",
    "\n",
    "For our purposes, that means we can consider the Hamiltonian to be \n",
    "\n",
    "$$\\hat H = {{ - {\\hbar ^2}} \\over {2m}}{{{d^2}} \\over {d{x^2}}}$$\n",
    "\n",
    "as long as we keep the limits of integration to be $(0,a)$"
   ]
  },
  {
   "cell_type": "markdown",
   "metadata": {},
   "source": [
    "### 2.1 Trial Wave function"
   ]
  },
  {
   "cell_type": "markdown",
   "metadata": {},
   "source": [
    "Although the particle in box has a well known solution\n",
    "\n",
    "[https://en.wikipedia.org/wiki/Particle_in_a_box](https://en.wikipedia.org/wiki/Particle_in_a_box)\n",
    "\n",
    "(or check your favorite pchem book)\n",
    "\n",
    "We are going to guess a trial wave function:\n",
    "\n",
    "$$\\Phi (x) = \\left( {{x \\over a} - {{{x^3}} \\over a}} \\right) + \\alpha \\left( {{{{x^5}} \\over {{a^5}}} - {1 \\over 2}\\left( {{{{x^7}} \\over {{a^7}}} + {{{x^7}} \\over {{a^7}}}} \\right)} \\right)$$"
   ]
  },
  {
   "cell_type": "markdown",
   "metadata": {},
   "source": [
    "### 2.2 Exercise: Variational Theorem"
   ]
  },
  {
   "cell_type": "markdown",
   "metadata": {},
   "source": [
    "We are going to follow the following plan:\n",
    "\n",
    "1. Solve for the energy of the trial wave function above  \n",
    "\n",
    "$${E_{trial}} = {{\\int\\limits_0^a {\\Phi (x){{ - {\\hbar ^2}} \\over {2m}}{{{d^2}} \\over {d{x^2}}}\\Phi (x)dx} } \\over {\\int\\limits_0^a {\\Phi {{(x)}^2}dx} }}$$\n",
    "\n",
    "Your answer will be a function of $ m,a,\\text{and } \\alpha$ We will use $\\alpha$ as the parameter we vary to minimize the energy and make a new trial wave function.\n",
    "\n",
    "2. Minimize the trial energy \n",
    "We will use a first derivative of the trial energy $${d \\over {d\\alpha }}{E_{trial}}(\\alpha )$$ to find the value of $\\alpha$ that gives you the lowest energy\n",
    "\n",
    "\n",
    "3. Plot your new wavefunction compared to the ground state particle in a box: $${\\psi _{true}}(x) = {\\left( {{2 \\over a}} \\right)^{1/2}}\\sin {{n\\pi x} \\over a}$$ Plot as a function of $x/a$ from $0$ to $1$. Assuming this has $m=m_e$, and $a=a_0$ use atomic (theorist) units to plot the function.\n",
    "\n",
    "4. Compare your trial energy to the actual energy (using atomic units)\n",
    "$${E_{true}}(n = 1) = {{{\\hbar ^2}{\\pi ^2}} \\over {2m{a^2}}}$$\n"
   ]
  },
  {
   "cell_type": "code",
   "execution_count": 41,
   "metadata": {},
   "outputs": [
    {
     "name": "stdout",
     "output_type": "stream",
     "text": [
      "(0.592657342657342*al**2/(a*m) + 6.35714285714286*al/(a*m) + 0.2*(-10.0*al - 3.0)/(a*m) + 0.111111111111111*(-10.0*al**2 - 36.0*al)/(a*m) + 1.0/(a*m) - 1.0/(a**4*m) - 0.2*(-10.0*al - 3.0)/(a**6*m) - 6.35714285714286*al/(a**8*m) - 0.111111111111111*(-10.0*al**2 - 36.0*al)/(a**10*m) - 4.22727272727273*al**2/(a**12*m) + 3.63461538461539*al**2/(a**14*m))/(-0.0807692307692308*a*al**2 - 0.555555555555556*a*al + 0.142857142857143*a*(2.0*al + 1.0) + 0.0909090909090909*a*(1.0*al**2 + 3.0*al) - 0.0666666666666667*a)\n"
     ]
    }
   ],
   "source": [
    "# #1 Solve for the energy of the trial wave function \n",
    "import sympy as sym\n",
    "x, m, a, al, phi= sym.symbols('x, m, a, al, phi')\n",
    "phi= (x/a - x**3/a**3) + al*((x**5/a**5)-(0.5*(x**7/a**7)+(x**7/a**7))) \n",
    "hbar= -1/(2*m)\n",
    "function1= phi*hbar\n",
    "\n",
    "firstd= sym.diff(phi,x)\n",
    "function2= sym.diff(firstd,x)\n",
    "\n",
    "eq1= sym.integrate(function1*function2, (x, 1,a))\n",
    "eq2= sym.integrate(phi**2, (x,0,a))\n",
    "\n",
    "etrial= eq1/eq2\n",
    "print(etrial)\n",
    "\n"
   ]
  },
  {
   "cell_type": "code",
   "execution_count": 15,
   "metadata": {},
   "outputs": [
    {
     "name": "stdout",
     "output_type": "stream",
     "text": [
      "(2.625*al**2/a**2 - 25.5*al/a**2 + 0.25*(20.0*al + 18.0)/a**2 + 0.125*(100.0*al**2 + 252.0*al)/a**2 - 3.0/a**2)/(-0.0807692307692308*a*al**2 - 0.555555555555556*a*al + 0.142857142857143*a*(2.0*al + 1.0) + 0.0909090909090909*a*(1.0*al**2 + 3.0*al) - 0.0666666666666667*a)\n"
     ]
    }
   ],
   "source": []
  },
  {
   "cell_type": "markdown",
   "metadata": {},
   "source": [
    "Your descriptions/explanations here"
   ]
  },
  {
   "cell_type": "markdown",
   "metadata": {},
   "source": [
    "### 2.3 Exercise: New trial wavefunction"
   ]
  },
  {
   "cell_type": "markdown",
   "metadata": {},
   "source": [
    "Determine the minimum energy of the particle in a box using a new trial wavefunction $$x^\\alpha(x-a)^\\alpha$$\n",
    "\n",
    "1. Find the minimum energy, $E_{trial}$\n",
    "2. Plot the new trial wavefunction and compare it to the true solution and the wavefunction you found above\n",
    "3. Compare you new energy to the trial energy you found above\n",
    "4. Which wavefunction is better? How do you know?"
   ]
  },
  {
   "cell_type": "code",
   "execution_count": 42,
   "metadata": {},
   "outputs": [
    {
     "ename": "ValueError",
     "evalue": "The same variable should be used in all univariate expressions being plotted.",
     "output_type": "error",
     "traceback": [
      "\u001b[0;31m---------------------------------------------------------------------------\u001b[0m",
      "\u001b[0;31mValueError\u001b[0m                                Traceback (most recent call last)",
      "\u001b[0;32m<ipython-input-42-0b8bc6f1592d>\u001b[0m in \u001b[0;36m<module>\u001b[0;34m\u001b[0m\n\u001b[1;32m      4\u001b[0m \u001b[0;34m\u001b[0m\u001b[0m\n\u001b[1;32m      5\u001b[0m \u001b[0;31m#2. Plot new trial function\u001b[0m\u001b[0;34m\u001b[0m\u001b[0;34m\u001b[0m\u001b[0;34m\u001b[0m\u001b[0m\n\u001b[0;32m----> 6\u001b[0;31m \u001b[0msym\u001b[0m\u001b[0;34m.\u001b[0m\u001b[0mplot\u001b[0m\u001b[0;34m(\u001b[0m\u001b[0metrial\u001b[0m\u001b[0;34m)\u001b[0m\u001b[0;34m\u001b[0m\u001b[0;34m\u001b[0m\u001b[0m\n\u001b[0m",
      "\u001b[0;32m~/anaconda3/lib/python3.7/site-packages/sympy/plotting/plot.py\u001b[0m in \u001b[0;36mplot\u001b[0;34m(*args, **kwargs)\u001b[0m\n\u001b[1;32m   1351\u001b[0m             \u001b[0;32mif\u001b[0m \u001b[0mlen\u001b[0m\u001b[0;34m(\u001b[0m\u001b[0mfree\u001b[0m\u001b[0;34m)\u001b[0m \u001b[0;34m>\u001b[0m \u001b[0;36m1\u001b[0m\u001b[0;34m:\u001b[0m\u001b[0;34m\u001b[0m\u001b[0;34m\u001b[0m\u001b[0m\n\u001b[1;32m   1352\u001b[0m                 raise ValueError(\n\u001b[0;32m-> 1353\u001b[0;31m                     \u001b[0;34m'The same variable should be used in all '\u001b[0m\u001b[0;34m\u001b[0m\u001b[0;34m\u001b[0m\u001b[0m\n\u001b[0m\u001b[1;32m   1354\u001b[0m                     'univariate expressions being plotted.')\n\u001b[1;32m   1355\u001b[0m     \u001b[0mx\u001b[0m \u001b[0;34m=\u001b[0m \u001b[0mfree\u001b[0m\u001b[0;34m.\u001b[0m\u001b[0mpop\u001b[0m\u001b[0;34m(\u001b[0m\u001b[0;34m)\u001b[0m \u001b[0;32mif\u001b[0m \u001b[0mfree\u001b[0m \u001b[0;32melse\u001b[0m \u001b[0mSymbol\u001b[0m\u001b[0;34m(\u001b[0m\u001b[0;34m'x'\u001b[0m\u001b[0;34m)\u001b[0m\u001b[0;34m\u001b[0m\u001b[0;34m\u001b[0m\u001b[0m\n",
      "\u001b[0;31mValueError\u001b[0m: The same variable should be used in all univariate expressions being plotted."
     ]
    }
   ],
   "source": [
    "# Your code here-- Find the minimum energy\n",
    "\n",
    "\n",
    "\n",
    "#2. Plot new trial function\n",
    "sym.plot(etrial,x)"
   ]
  },
  {
   "cell_type": "markdown",
   "metadata": {},
   "source": [
    "Your descriptions/explanations here"
   ]
  },
  {
   "cell_type": "markdown",
   "metadata": {},
   "source": [
    "### 2.4 Exercise: Design your own wavefunction!"
   ]
  },
  {
   "cell_type": "markdown",
   "metadata": {},
   "source": [
    "**Now you get to make your own wavefunction!**\n",
    "\n",
    "The only guidance I would give you is that it make sense mathematically and that it include $\\alpha$ so that you can minimize the energy.\n",
    "\n",
    "Remember that $a$ and $x$ are both length units, and that trigonometric, logarithmic, and exponential functions are all unitless  \n",
    "\n",
    "\n",
    "Using your new wavefunction:\n",
    "\n",
    "1. Find the minimum energy, $E_{trial}$\n",
    "2. Plot the new trial wavefunction and compare it to the true solution and the wavefunction you found above\n",
    "3. Compare you new energy to the trial energy you found above\n",
    "4. Which wavefunction is better? How do you know?"
   ]
  },
  {
   "cell_type": "code",
   "execution_count": 62,
   "metadata": {},
   "outputs": [],
   "source": [
    "# Your code here"
   ]
  },
  {
   "cell_type": "markdown",
   "metadata": {},
   "source": [
    "Your descriptions/explanations here"
   ]
  },
  {
   "cell_type": "markdown",
   "metadata": {},
   "source": [
    "# Reading Homework"
   ]
  },
  {
   "cell_type": "markdown",
   "metadata": {},
   "source": [
    "Read the following sections in Kramer\n",
    "\n",
    "- 4.2.3 Born-Oppenheimer approximation\n",
    "- 4.3.2 Secular equation\n",
    "- All of 4.5\n",
    "\n",
    "For each subsection\n",
    "- write down the subchapter name\n",
    "- what was the most important idea\n",
    "- draw an idea digram of the main idea\n",
    "\n",
    "**Make sure to upload this to the assignment repository**\n",
    "\n",
    "Example idea diagram:\n",
    "![Particle in a box](idea_map.png)"
   ]
  },
  {
   "cell_type": "code",
   "execution_count": null,
   "metadata": {},
   "outputs": [],
   "source": []
  }
 ],
 "metadata": {
  "kernelspec": {
   "display_name": "Python 3",
   "language": "python",
   "name": "python3"
  },
  "language_info": {
   "codemirror_mode": {
    "name": "ipython",
    "version": 3
   },
   "file_extension": ".py",
   "mimetype": "text/x-python",
   "name": "python",
   "nbconvert_exporter": "python",
   "pygments_lexer": "ipython3",
   "version": "3.7.3"
  }
 },
 "nbformat": 4,
 "nbformat_minor": 2
}
